{
 "cells": [
  {
   "cell_type": "markdown",
   "id": "6d03ccbc-23b6-48c8-a5e4-25cf6a0edb58",
   "metadata": {},
   "source": [
    "We will have another simple example on two sample t test (pooled- when the variances are equal). But this time this is a one sided t-test\n",
    "\n",
    "In a packing plant, a machine packs cartons with jars. It is supposed that a new machine will pack faster on the average than the machine currently used. To test that hypothesis, the times it takes each machine to pack ten cartons are recorded. The results, in seconds, are shown in the tables in the file files_for_lab/machine.txt. \n",
    "\n",
    "Assume that there is sufficient evidence to conduct the t test, does the data provide sufficient evidence to show if one machine is better than the other"
   ]
  },
  {
   "cell_type": "code",
   "execution_count": 7,
   "id": "6bb5be5f-8e98-4ccf-89f5-f833456189ef",
   "metadata": {},
   "outputs": [],
   "source": [
    "# Libraries\n",
    "import math\n",
    "import pandas as pd\n",
    "import numpy as np\n",
    "import matplotlib.pyplot as plt\n",
    "import scipy.stats as st\n",
    "import statsmodels.api as sm\n",
    "import statsmodels.formula.api as smf"
   ]
  },
  {
   "cell_type": "code",
   "execution_count": 11,
   "id": "3df13f2f-a600-4a89-9d63-07f5bca5e8c7",
   "metadata": {},
   "outputs": [
    {
     "data": {
      "text/html": [
       "<div>\n",
       "<style scoped>\n",
       "    .dataframe tbody tr th:only-of-type {\n",
       "        vertical-align: middle;\n",
       "    }\n",
       "\n",
       "    .dataframe tbody tr th {\n",
       "        vertical-align: top;\n",
       "    }\n",
       "\n",
       "    .dataframe thead th {\n",
       "        text-align: right;\n",
       "    }\n",
       "</style>\n",
       "<table border=\"1\" class=\"dataframe\">\n",
       "  <thead>\n",
       "    <tr style=\"text-align: right;\">\n",
       "      <th></th>\n",
       "      <th>New machine</th>\n",
       "      <th>Old machine</th>\n",
       "    </tr>\n",
       "  </thead>\n",
       "  <tbody>\n",
       "    <tr>\n",
       "      <th>0</th>\n",
       "      <td>42.1</td>\n",
       "      <td>42.7</td>\n",
       "    </tr>\n",
       "    <tr>\n",
       "      <th>1</th>\n",
       "      <td>41.0</td>\n",
       "      <td>43.6</td>\n",
       "    </tr>\n",
       "    <tr>\n",
       "      <th>2</th>\n",
       "      <td>41.3</td>\n",
       "      <td>43.8</td>\n",
       "    </tr>\n",
       "    <tr>\n",
       "      <th>3</th>\n",
       "      <td>41.8</td>\n",
       "      <td>43.3</td>\n",
       "    </tr>\n",
       "    <tr>\n",
       "      <th>4</th>\n",
       "      <td>42.4</td>\n",
       "      <td>42.5</td>\n",
       "    </tr>\n",
       "  </tbody>\n",
       "</table>\n",
       "</div>"
      ],
      "text/plain": [
       "   New machine      Old machine\n",
       "0         42.1             42.7\n",
       "1         41.0             43.6\n",
       "2         41.3             43.8\n",
       "3         41.8             43.3\n",
       "4         42.4             42.5"
      ]
     },
     "execution_count": 11,
     "metadata": {},
     "output_type": "execute_result"
    }
   ],
   "source": [
    "data = pd.read_csv(\"files_for_lab/machine.txt\",sep=\"\\t\", encoding=\"utf-16\")\n",
    "data.head()"
   ]
  },
  {
   "cell_type": "code",
   "execution_count": 15,
   "id": "6be5cb19-c7bc-414a-a061-2f84e1db3d53",
   "metadata": {},
   "outputs": [
    {
     "data": {
      "text/plain": [
       "Index(['New machine', '    Old machine'], dtype='object')"
      ]
     },
     "execution_count": 15,
     "metadata": {},
     "output_type": "execute_result"
    }
   ],
   "source": [
    "data.columns"
   ]
  },
  {
   "cell_type": "code",
   "execution_count": 17,
   "id": "2f5aa3a9-b0a6-412c-a066-2cd71c39665f",
   "metadata": {},
   "outputs": [],
   "source": [
    "# Extract blood pressure before and after treatment\n",
    "old = data[\"    Old machine\"]\n",
    "new = data[\"New machine\"]"
   ]
  },
  {
   "cell_type": "code",
   "execution_count": null,
   "id": "55a83171-ed4f-4aa6-b504-48b9383a65d6",
   "metadata": {},
   "outputs": [],
   "source": [
    "# Sample\n",
    "n = len(data)"
   ]
  },
  {
   "cell_type": "code",
   "execution_count": 19,
   "id": "4a5f2ad5-f130-4c5d-a60e-6487d28b3e8e",
   "metadata": {},
   "outputs": [],
   "source": [
    "# Mean of the sample\n",
    "xbarra_old = old.mean()\n",
    "xbarra_new = new.mean()"
   ]
  },
  {
   "cell_type": "code",
   "execution_count": 21,
   "id": "1086407f-bae0-4af5-bec6-fcf545ab87ac",
   "metadata": {},
   "outputs": [],
   "source": [
    "# Standard deviation of the sample\n",
    "s_old = old.std()\n",
    "s_new = new.std()"
   ]
  },
  {
   "cell_type": "code",
   "execution_count": 29,
   "id": "e66b1839-fadb-4622-8dfd-bf8f3bd42872",
   "metadata": {},
   "outputs": [
    {
     "name": "stdout",
     "output_type": "stream",
     "text": [
      "Test Statistic (t): -3.40\n",
      "P-Value: 0.99839442874961270569\n",
      "\n",
      "Fail to Reject the Null Hypothesis: No significant change in blood pressure after treatment.\n"
     ]
    }
   ],
   "source": [
    "# Perform paired t-test\n",
    "t_stat, p_value = st.ttest_ind(new, old, alternative = \"greater\")\n",
    "\n",
    "# The variables are independent from each other, so we utilize ttest_st_ind\n",
    "\n",
    "print(f\"Test Statistic (t): {t_stat:.2f}\")\n",
    "print(f\"P-Value: {p_value:.20f}\") \n",
    "print()\n",
    "\n",
    "# Significance level\n",
    "alpha = 0.05\n",
    "\n",
    "# Decision-Making\n",
    "if p_value > alpha:\n",
    "    print(\"Fail to Reject the Null Hypothesis: No significant change in blood pressure after treatment.\")\n",
    "else:\n",
    "    print(\"Reject the Null Hypothesis: There is a significant change in blood pressure after treatment.\")"
   ]
  }
 ],
 "metadata": {
  "kernelspec": {
   "display_name": "Python 3 (ipykernel)",
   "language": "python",
   "name": "python3"
  },
  "language_info": {
   "codemirror_mode": {
    "name": "ipython",
    "version": 3
   },
   "file_extension": ".py",
   "mimetype": "text/x-python",
   "name": "python",
   "nbconvert_exporter": "python",
   "pygments_lexer": "ipython3",
   "version": "3.12.4"
  }
 },
 "nbformat": 4,
 "nbformat_minor": 5
}
